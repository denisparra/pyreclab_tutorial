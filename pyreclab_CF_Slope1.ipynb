{
  "nbformat": 4,
  "nbformat_minor": 0,
  "metadata": {
    "colab": {
      "name": "pyreclab_CF_Slope1.ipynb",
      "version": "0.3.2",
      "provenance": [],
      "collapsed_sections": [],
      "include_colab_link": true
    },
    "kernelspec": {
      "name": "python3",
      "display_name": "Python 3"
    },
    "accelerator": "GPU"
  },
  "cells": [
    {
      "cell_type": "markdown",
      "metadata": {
        "id": "view-in-github",
        "colab_type": "text"
      },
      "source": [
        "[View in Colaboratory](https://colab.research.google.com/github/denisparra/pyreclab_tutorial/blob/master/pyreclab_CF_Slope1.ipynb)"
      ]
    },
    {
      "metadata": {
        "id": "NC-ceGb8LRLT",
        "colab_type": "text"
      },
      "cell_type": "markdown",
      "source": [
        "# Practica Pyreclab 1"
      ]
    },
    {
      "metadata": {
        "id": "mACJbcW8T35p",
        "colab_type": "text"
      },
      "cell_type": "markdown",
      "source": [
        "En este práctico vamos a utilizar la biblioteca de Python [pyreclab](https://github.com/gasevi/pyreclab) desarrollado por los Laboratorios IALab y SocVis de la Pontificia Universidad Católica de Chile, para aprender sobre algoritmos básicos y tradicionales de sistemas de recomendacion:\n",
        "\n",
        "\n",
        "*   Most Popular\n",
        "*   Item Average Rating\n",
        "*   User KNN (Filtrado colaborativo basado en usuarios)\n",
        "*   Item KNN (Filtrado colaborativo basado en items)\n",
        "*   FunkSVD (Factorización matricial SVD regularizada)\n",
        "\n",
        "\n",
        "**Autores**: Denis Parra, Gabriel Sepúlveda\n"
      ]
    },
    {
      "metadata": {
        "id": "YbhbI8isNdqE",
        "colab_type": "text"
      },
      "cell_type": "markdown",
      "source": [
        "**Nombre**:  tu nombre aqui"
      ]
    },
    {
      "metadata": {
        "id": "9qKTQ2V5VKSX",
        "colab_type": "text"
      },
      "cell_type": "markdown",
      "source": [
        "#Instrucciones\n",
        "\n",
        "Vaya ejecutando cada celda presionand el botón de Play o presionando Ctrl+Enter (Linux y Windows) o Command+Enter (Macosx)"
      ]
    },
    {
      "metadata": {
        "id": "k9ns677UutZM",
        "colab_type": "code",
        "colab": {
          "base_uri": "https://localhost:8080/",
          "height": 86
        },
        "outputId": "33babd4c-ac66-47c2-e8e6-f2df54371697"
      },
      "cell_type": "code",
      "source": [
        "!curl -L -o \"u1.base\" \"https://drive.google.com/uc?export=download&id=1bGweNw7NbOHoJz11v6ld7ymLR8MLvBsA\""
      ],
      "execution_count": 1,
      "outputs": [
        {
          "output_type": "stream",
          "text": [
            "  % Total    % Received % Xferd  Average Speed   Time    Time     Time  Current\n",
            "                                 Dload  Upload   Total   Spent    Left  Speed\n",
            "100   388    0   388    0     0    388      0 --:--:-- --:--:-- --:--:--  1037\n",
            "100 1546k  100 1546k    0     0  1546k      0  0:00:01  0:00:01 --:--:-- 1546k\n"
          ],
          "name": "stdout"
        }
      ]
    },
    {
      "metadata": {
        "id": "zsxxCm_5uuIC",
        "colab_type": "code",
        "colab": {
          "base_uri": "https://localhost:8080/",
          "height": 86
        },
        "outputId": "5f35517d-15dc-46d4-fb64-63fea17b79bb"
      },
      "cell_type": "code",
      "source": [
        "!curl -L -o \"u1.test\" \"https://drive.google.com/uc?export=download&id=1f_HwJWC_1HFzgAjKAWKwkuxgjkhkXrVg\""
      ],
      "execution_count": 2,
      "outputs": [
        {
          "output_type": "stream",
          "text": [
            "  % Total    % Received % Xferd  Average Speed   Time    Time     Time  Current\n",
            "                                 Dload  Upload   Total   Spent    Left  Speed\n",
            "\r  0     0    0     0    0     0      0      0 --:--:-- --:--:-- --:--:--     0\r100   388    0   388    0     0    388      0 --:--:-- --:--:-- --:--:--  1099\n",
            "\r  0  385k    0     0    0     0      0      0 --:--:-- --:--:-- --:--:--     0\r100  385k  100  385k    0     0   385k      0  0:00:01 --:--:--  0:00:01 75.3M\n"
          ],
          "name": "stdout"
        }
      ]
    },
    {
      "metadata": {
        "id": "Ji-GEIx4uuQ8",
        "colab_type": "code",
        "colab": {
          "base_uri": "https://localhost:8080/",
          "height": 86
        },
        "outputId": "3b58921a-3b1e-4047-d845-685be39ce3d5"
      },
      "cell_type": "code",
      "source": [
        "!curl -L -o \"u.item\" \"https://drive.google.com/uc?export=download&id=10YLhxkO2-M_flQtyo9OYV4nT9IvSESuz\""
      ],
      "execution_count": 3,
      "outputs": [
        {
          "output_type": "stream",
          "text": [
            "  % Total    % Received % Xferd  Average Speed   Time    Time     Time  Current\n",
            "                                 Dload  Upload   Total   Spent    Left  Speed\n",
            "100   388    0   388    0     0    388      0 --:--:-- --:--:-- --:--:--   838\n",
            "100  230k  100  230k    0     0   230k      0  0:00:01 --:--:--  0:00:01  230k\n"
          ],
          "name": "stdout"
        }
      ]
    },
    {
      "metadata": {
        "id": "liJ3L2kl4g1o",
        "colab_type": "text"
      },
      "cell_type": "markdown",
      "source": [
        "Los archivos u1.base y u1.test tienen tuplas {usuario, item, rating, timestamp}, que es la información de preferencias de usuarios sobre películas en una muestra del dataset [movielens](https://grouplens.org/datasets/movielens/).\n",
        "\n",
        "Revisemos cómo es uno de estos archivos:"
      ]
    },
    {
      "metadata": {
        "id": "10N9GHcw5AeV",
        "colab_type": "code",
        "colab": {
          "base_uri": "https://localhost:8080/",
          "height": 202
        },
        "outputId": "40a21cba-c9f3-43e1-8465-29eaf11918f4"
      },
      "cell_type": "code",
      "source": [
        "import pandas as pd\n",
        "\n",
        "train_file = pd.read_csv('u1.base', sep='\\t', names = ['userid', 'itemid', 'rating', 'timestamp'], header=None)\n",
        "\n",
        "train_file.head()"
      ],
      "execution_count": 4,
      "outputs": [
        {
          "output_type": "execute_result",
          "data": {
            "text/html": [
              "<div>\n",
              "<style scoped>\n",
              "    .dataframe tbody tr th:only-of-type {\n",
              "        vertical-align: middle;\n",
              "    }\n",
              "\n",
              "    .dataframe tbody tr th {\n",
              "        vertical-align: top;\n",
              "    }\n",
              "\n",
              "    .dataframe thead th {\n",
              "        text-align: right;\n",
              "    }\n",
              "</style>\n",
              "<table border=\"1\" class=\"dataframe\">\n",
              "  <thead>\n",
              "    <tr style=\"text-align: right;\">\n",
              "      <th></th>\n",
              "      <th>userid</th>\n",
              "      <th>itemid</th>\n",
              "      <th>rating</th>\n",
              "      <th>timestamp</th>\n",
              "    </tr>\n",
              "  </thead>\n",
              "  <tbody>\n",
              "    <tr>\n",
              "      <th>0</th>\n",
              "      <td>1</td>\n",
              "      <td>3</td>\n",
              "      <td>4</td>\n",
              "      <td>878542960</td>\n",
              "    </tr>\n",
              "    <tr>\n",
              "      <th>1</th>\n",
              "      <td>1</td>\n",
              "      <td>4</td>\n",
              "      <td>3</td>\n",
              "      <td>876893119</td>\n",
              "    </tr>\n",
              "    <tr>\n",
              "      <th>2</th>\n",
              "      <td>1</td>\n",
              "      <td>5</td>\n",
              "      <td>3</td>\n",
              "      <td>889751712</td>\n",
              "    </tr>\n",
              "    <tr>\n",
              "      <th>3</th>\n",
              "      <td>1</td>\n",
              "      <td>6</td>\n",
              "      <td>5</td>\n",
              "      <td>887431973</td>\n",
              "    </tr>\n",
              "    <tr>\n",
              "      <th>4</th>\n",
              "      <td>1</td>\n",
              "      <td>7</td>\n",
              "      <td>4</td>\n",
              "      <td>875071561</td>\n",
              "    </tr>\n",
              "  </tbody>\n",
              "</table>\n",
              "</div>"
            ],
            "text/plain": [
              "   userid  itemid  rating  timestamp\n",
              "0       1       3       4  878542960\n",
              "1       1       4       3  876893119\n",
              "2       1       5       3  889751712\n",
              "3       1       6       5  887431973\n",
              "4       1       7       4  875071561"
            ]
          },
          "metadata": {
            "tags": []
          },
          "execution_count": 4
        }
      ]
    },
    {
      "metadata": {
        "id": "BKOrcfaiEdqM",
        "colab_type": "text"
      },
      "cell_type": "markdown",
      "source": [
        "Por otra parte, para obtener información adicional de cada película tal como *título*, *fecha de lanzamient*o, *género*, etc., cargaremos el archivo de items descargado ( *u.item* ) para poder mapear cada identificador de ítem al conjunto de datos que lo describe.\n",
        "Revisemos el contenido de este archivo"
      ]
    },
    {
      "metadata": {
        "id": "bVtvxJnr_yeK",
        "colab_type": "code",
        "colab": {
          "base_uri": "https://localhost:8080/",
          "height": 404
        },
        "outputId": "04894e82-0933-4632-f6cf-bb0da3882532"
      },
      "cell_type": "code",
      "source": [
        "info_cols = [ 'movieid', 'title', 'release_date', 'video_release_date', 'IMDb_URL', \\\n",
        "              'unknown', 'Action', 'Adventure', 'Animation', 'Children', 'Comedy', \\\n",
        "              'Crime', 'Documentary', 'Drama', 'Fantasy', 'Film-Noir', 'Horror', \\\n",
        "              'Musical', 'Mystery', 'Romance', 'Sci-Fi', 'Thriller', 'War', 'Western' ]\n",
        "\n",
        "info_file = pd.read_csv('u.item', sep='|', index_col = 0, names = info_cols, header=None, encoding='latin-1')\n",
        "#info_file = pd.read_csv('u.item', sep='|',  names = info_cols, header=None, encoding='latin-1')\n",
        "\n",
        "info_file.head()"
      ],
      "execution_count": 5,
      "outputs": [
        {
          "output_type": "execute_result",
          "data": {
            "text/html": [
              "<div>\n",
              "<style scoped>\n",
              "    .dataframe tbody tr th:only-of-type {\n",
              "        vertical-align: middle;\n",
              "    }\n",
              "\n",
              "    .dataframe tbody tr th {\n",
              "        vertical-align: top;\n",
              "    }\n",
              "\n",
              "    .dataframe thead th {\n",
              "        text-align: right;\n",
              "    }\n",
              "</style>\n",
              "<table border=\"1\" class=\"dataframe\">\n",
              "  <thead>\n",
              "    <tr style=\"text-align: right;\">\n",
              "      <th></th>\n",
              "      <th>title</th>\n",
              "      <th>release_date</th>\n",
              "      <th>video_release_date</th>\n",
              "      <th>IMDb_URL</th>\n",
              "      <th>unknown</th>\n",
              "      <th>Action</th>\n",
              "      <th>Adventure</th>\n",
              "      <th>Animation</th>\n",
              "      <th>Children</th>\n",
              "      <th>Comedy</th>\n",
              "      <th>...</th>\n",
              "      <th>Fantasy</th>\n",
              "      <th>Film-Noir</th>\n",
              "      <th>Horror</th>\n",
              "      <th>Musical</th>\n",
              "      <th>Mystery</th>\n",
              "      <th>Romance</th>\n",
              "      <th>Sci-Fi</th>\n",
              "      <th>Thriller</th>\n",
              "      <th>War</th>\n",
              "      <th>Western</th>\n",
              "    </tr>\n",
              "    <tr>\n",
              "      <th>movieid</th>\n",
              "      <th></th>\n",
              "      <th></th>\n",
              "      <th></th>\n",
              "      <th></th>\n",
              "      <th></th>\n",
              "      <th></th>\n",
              "      <th></th>\n",
              "      <th></th>\n",
              "      <th></th>\n",
              "      <th></th>\n",
              "      <th></th>\n",
              "      <th></th>\n",
              "      <th></th>\n",
              "      <th></th>\n",
              "      <th></th>\n",
              "      <th></th>\n",
              "      <th></th>\n",
              "      <th></th>\n",
              "      <th></th>\n",
              "      <th></th>\n",
              "      <th></th>\n",
              "    </tr>\n",
              "  </thead>\n",
              "  <tbody>\n",
              "    <tr>\n",
              "      <th>1</th>\n",
              "      <td>Toy Story (1995)</td>\n",
              "      <td>01-Jan-1995</td>\n",
              "      <td>NaN</td>\n",
              "      <td>http://us.imdb.com/M/title-exact?Toy%20Story%2...</td>\n",
              "      <td>0</td>\n",
              "      <td>0</td>\n",
              "      <td>0</td>\n",
              "      <td>1</td>\n",
              "      <td>1</td>\n",
              "      <td>1</td>\n",
              "      <td>...</td>\n",
              "      <td>0</td>\n",
              "      <td>0</td>\n",
              "      <td>0</td>\n",
              "      <td>0</td>\n",
              "      <td>0</td>\n",
              "      <td>0</td>\n",
              "      <td>0</td>\n",
              "      <td>0</td>\n",
              "      <td>0</td>\n",
              "      <td>0</td>\n",
              "    </tr>\n",
              "    <tr>\n",
              "      <th>2</th>\n",
              "      <td>GoldenEye (1995)</td>\n",
              "      <td>01-Jan-1995</td>\n",
              "      <td>NaN</td>\n",
              "      <td>http://us.imdb.com/M/title-exact?GoldenEye%20(...</td>\n",
              "      <td>0</td>\n",
              "      <td>1</td>\n",
              "      <td>1</td>\n",
              "      <td>0</td>\n",
              "      <td>0</td>\n",
              "      <td>0</td>\n",
              "      <td>...</td>\n",
              "      <td>0</td>\n",
              "      <td>0</td>\n",
              "      <td>0</td>\n",
              "      <td>0</td>\n",
              "      <td>0</td>\n",
              "      <td>0</td>\n",
              "      <td>0</td>\n",
              "      <td>1</td>\n",
              "      <td>0</td>\n",
              "      <td>0</td>\n",
              "    </tr>\n",
              "    <tr>\n",
              "      <th>3</th>\n",
              "      <td>Four Rooms (1995)</td>\n",
              "      <td>01-Jan-1995</td>\n",
              "      <td>NaN</td>\n",
              "      <td>http://us.imdb.com/M/title-exact?Four%20Rooms%...</td>\n",
              "      <td>0</td>\n",
              "      <td>0</td>\n",
              "      <td>0</td>\n",
              "      <td>0</td>\n",
              "      <td>0</td>\n",
              "      <td>0</td>\n",
              "      <td>...</td>\n",
              "      <td>0</td>\n",
              "      <td>0</td>\n",
              "      <td>0</td>\n",
              "      <td>0</td>\n",
              "      <td>0</td>\n",
              "      <td>0</td>\n",
              "      <td>0</td>\n",
              "      <td>1</td>\n",
              "      <td>0</td>\n",
              "      <td>0</td>\n",
              "    </tr>\n",
              "    <tr>\n",
              "      <th>4</th>\n",
              "      <td>Get Shorty (1995)</td>\n",
              "      <td>01-Jan-1995</td>\n",
              "      <td>NaN</td>\n",
              "      <td>http://us.imdb.com/M/title-exact?Get%20Shorty%...</td>\n",
              "      <td>0</td>\n",
              "      <td>1</td>\n",
              "      <td>0</td>\n",
              "      <td>0</td>\n",
              "      <td>0</td>\n",
              "      <td>1</td>\n",
              "      <td>...</td>\n",
              "      <td>0</td>\n",
              "      <td>0</td>\n",
              "      <td>0</td>\n",
              "      <td>0</td>\n",
              "      <td>0</td>\n",
              "      <td>0</td>\n",
              "      <td>0</td>\n",
              "      <td>0</td>\n",
              "      <td>0</td>\n",
              "      <td>0</td>\n",
              "    </tr>\n",
              "    <tr>\n",
              "      <th>5</th>\n",
              "      <td>Copycat (1995)</td>\n",
              "      <td>01-Jan-1995</td>\n",
              "      <td>NaN</td>\n",
              "      <td>http://us.imdb.com/M/title-exact?Copycat%20(1995)</td>\n",
              "      <td>0</td>\n",
              "      <td>0</td>\n",
              "      <td>0</td>\n",
              "      <td>0</td>\n",
              "      <td>0</td>\n",
              "      <td>0</td>\n",
              "      <td>...</td>\n",
              "      <td>0</td>\n",
              "      <td>0</td>\n",
              "      <td>0</td>\n",
              "      <td>0</td>\n",
              "      <td>0</td>\n",
              "      <td>0</td>\n",
              "      <td>0</td>\n",
              "      <td>1</td>\n",
              "      <td>0</td>\n",
              "      <td>0</td>\n",
              "    </tr>\n",
              "  </tbody>\n",
              "</table>\n",
              "<p>5 rows × 23 columns</p>\n",
              "</div>"
            ],
            "text/plain": [
              "                     title release_date  video_release_date  \\\n",
              "movieid                                                       \n",
              "1         Toy Story (1995)  01-Jan-1995                 NaN   \n",
              "2         GoldenEye (1995)  01-Jan-1995                 NaN   \n",
              "3        Four Rooms (1995)  01-Jan-1995                 NaN   \n",
              "4        Get Shorty (1995)  01-Jan-1995                 NaN   \n",
              "5           Copycat (1995)  01-Jan-1995                 NaN   \n",
              "\n",
              "                                                  IMDb_URL  unknown  Action  \\\n",
              "movieid                                                                       \n",
              "1        http://us.imdb.com/M/title-exact?Toy%20Story%2...        0       0   \n",
              "2        http://us.imdb.com/M/title-exact?GoldenEye%20(...        0       1   \n",
              "3        http://us.imdb.com/M/title-exact?Four%20Rooms%...        0       0   \n",
              "4        http://us.imdb.com/M/title-exact?Get%20Shorty%...        0       1   \n",
              "5        http://us.imdb.com/M/title-exact?Copycat%20(1995)        0       0   \n",
              "\n",
              "         Adventure  Animation  Children  Comedy   ...     Fantasy  Film-Noir  \\\n",
              "movieid                                           ...                          \n",
              "1                0          1         1       1   ...           0          0   \n",
              "2                1          0         0       0   ...           0          0   \n",
              "3                0          0         0       0   ...           0          0   \n",
              "4                0          0         0       1   ...           0          0   \n",
              "5                0          0         0       0   ...           0          0   \n",
              "\n",
              "         Horror  Musical  Mystery  Romance  Sci-Fi  Thriller  War  Western  \n",
              "movieid                                                                     \n",
              "1             0        0        0        0       0         0    0        0  \n",
              "2             0        0        0        0       0         1    0        0  \n",
              "3             0        0        0        0       0         1    0        0  \n",
              "4             0        0        0        0       0         0    0        0  \n",
              "5             0        0        0        0       0         1    0        0  \n",
              "\n",
              "[5 rows x 23 columns]"
            ]
          },
          "metadata": {
            "tags": []
          },
          "execution_count": 5
        }
      ]
    },
    {
      "metadata": {
        "id": "3JsjHzBFGqQI",
        "colab_type": "code",
        "colab": {
          "base_uri": "https://localhost:8080/",
          "height": 104
        },
        "outputId": "652dbcfe-059c-47aa-c08a-3a61e41c139c"
      },
      "cell_type": "code",
      "source": [
        "# ejemplo de cómo visualizar titulos de peliculas en base a sus IDs\n",
        "pelis = [5,4,1]\n",
        "info_file.loc[pelis]['title']"
      ],
      "execution_count": 6,
      "outputs": [
        {
          "output_type": "execute_result",
          "data": {
            "text/plain": [
              "movieid\n",
              "5       Copycat (1995)\n",
              "4    Get Shorty (1995)\n",
              "1     Toy Story (1995)\n",
              "Name: title, dtype: object"
            ]
          },
          "metadata": {
            "tags": []
          },
          "execution_count": 6
        }
      ]
    },
    {
      "metadata": {
        "id": "vypumB0LLl6B",
        "colab_type": "text"
      },
      "cell_type": "markdown",
      "source": [
        " 2.- Instalar ***pyreclab***"
      ]
    },
    {
      "metadata": {
        "id": "nbtrMHvG6uIt",
        "colab_type": "code",
        "colab": {
          "base_uri": "https://localhost:8080/",
          "height": 104
        },
        "outputId": "3387dfe1-9153-4e7e-a017-d521d10c2988"
      },
      "cell_type": "code",
      "source": [
        "!pip install pyreclab"
      ],
      "execution_count": 7,
      "outputs": [
        {
          "output_type": "stream",
          "text": [
            "Collecting pyreclab\n",
            "\u001b[?25l  Downloading https://files.pythonhosted.org/packages/ef/19/f34b7e91f201aeb2d10bdceef6942e91c0c6a98e1b104baeb56d7bafe61c/pyreclab-0.1.12-cp36-cp36m-manylinux1_x86_64.whl (153kB)\n",
            "\r\u001b[K    6% |██▏                             | 10kB 17.7MB/s eta 0:00:01\r\u001b[K    13% |████▎                           | 20kB 1.8MB/s eta 0:00:01\r\u001b[K    20% |██████▍                         | 30kB 2.6MB/s eta 0:00:01\r\u001b[K    26% |████████▌                       | 40kB 1.7MB/s eta 0:00:01\r\u001b[K    33% |██████████▊                     | 51kB 2.1MB/s eta 0:00:01\r\u001b[K    40% |████████████▉                   | 61kB 2.5MB/s eta 0:00:01\r\u001b[K    46% |███████████████                 | 71kB 2.9MB/s eta 0:00:01\r\u001b[K    53% |█████████████████               | 81kB 3.3MB/s eta 0:00:01\r\u001b[K    60% |███████████████████▎            | 92kB 2.6MB/s eta 0:00:01\r\u001b[K    66% |█████████████████████▍          | 102kB 2.8MB/s eta 0:00:01\r\u001b[K    73% |███████████████████████▌        | 112kB 2.9MB/s eta 0:00:01\r\u001b[K    80% |█████████████████████████▋      | 122kB 4.1MB/s eta 0:00:01\r\u001b[K    86% |███████████████████████████▉    | 133kB 4.1MB/s eta 0:00:01\r\u001b[K    93% |██████████████████████████████  | 143kB 7.5MB/s eta 0:00:01\r\u001b[K    100% |████████████████████████████████| 153kB 6.8MB/s \n",
            "\u001b[?25hInstalling collected packages: pyreclab\n",
            "Successfully installed pyreclab-0.1.12\n"
          ],
          "name": "stdout"
        }
      ]
    },
    {
      "metadata": {
        "id": "8xjAMaNz-4dO",
        "colab_type": "text"
      },
      "cell_type": "markdown",
      "source": [
        "3..- Importar pyreclab y numpy"
      ]
    },
    {
      "metadata": {
        "id": "nv7g1e_i6wBY",
        "colab_type": "code",
        "colab": {}
      },
      "cell_type": "code",
      "source": [
        "import pyreclab\n",
        "import numpy as np"
      ],
      "execution_count": 0,
      "outputs": []
    },
    {
      "metadata": {
        "id": "tGbAZ8yAMAk5",
        "colab_type": "text"
      },
      "cell_type": "markdown",
      "source": [
        "4.- Probar método de recomendación basado en ***Most Popular***"
      ]
    },
    {
      "metadata": {
        "id": "ayKBs3MSS1JZ",
        "colab_type": "code",
        "colab": {}
      },
      "cell_type": "code",
      "source": [
        "# declarar el objeto recomendador de la clase MostPopular\n",
        "mymp = pyreclab.MostPopular(dataset = 'u1.base',dlmchar = b'\\t',header = False,usercol = 0,itemcol = 1, ratingcol = 2 )\n"
      ],
      "execution_count": 0,
      "outputs": []
    },
    {
      "metadata": {
        "id": "yt-4Z9XlTH8s",
        "colab_type": "code",
        "colab": {}
      },
      "cell_type": "code",
      "source": [
        "# entrenamos el modelo con los datos existentes\n",
        "\n",
        "# el método calcula el numero de veces que fue consumido cada item, \n",
        "# así, puede luego recomendar los mas populares\n",
        "mymp.train()"
      ],
      "execution_count": 0,
      "outputs": []
    },
    {
      "metadata": {
        "id": "hm1kj3CiTVq5",
        "colab_type": "code",
        "colab": {
          "base_uri": "https://localhost:8080/",
          "height": 34
        },
        "outputId": "6626d19a-981e-4cdc-f30d-4a8a08c82c7d"
      },
      "cell_type": "code",
      "source": [
        "# con este método no podemos predecir ratings, pero sí podemos recomendar\n",
        "# la recomendación es no personalizada (igual recomendación a todos los usuarios)\n",
        "reclist = mymp.recommend(\"457\")\n",
        "print(reclist)"
      ],
      "execution_count": 11,
      "outputs": [
        {
          "output_type": "stream",
          "text": [
            "['50', '100', '258', '181', '286', '1', '174', '127', '7', '98']\n"
          ],
          "name": "stdout"
        }
      ]
    },
    {
      "metadata": {
        "id": "g06HSOn6KVoj",
        "colab_type": "code",
        "colab": {
          "base_uri": "https://localhost:8080/",
          "height": 225
        },
        "outputId": "1929336c-4f00-41cd-d61a-ab14dd53a02a"
      },
      "cell_type": "code",
      "source": [
        "# con esto podemos ver las recomendaciones con titulo de película\n",
        "pelis = np.array(reclist).astype(int)\n",
        "info_file.loc[pelis]['title']"
      ],
      "execution_count": 12,
      "outputs": [
        {
          "output_type": "execute_result",
          "data": {
            "text/plain": [
              "movieid\n",
              "50                     Star Wars (1977)\n",
              "100                        Fargo (1996)\n",
              "258                      Contact (1997)\n",
              "181           Return of the Jedi (1983)\n",
              "286         English Patient, The (1996)\n",
              "1                      Toy Story (1995)\n",
              "174      Raiders of the Lost Ark (1981)\n",
              "127               Godfather, The (1972)\n",
              "7                 Twelve Monkeys (1995)\n",
              "98     Silence of the Lambs, The (1991)\n",
              "Name: title, dtype: object"
            ]
          },
          "metadata": {
            "tags": []
          },
          "execution_count": 12
        }
      ]
    },
    {
      "metadata": {
        "id": "d72jgXBsML5a",
        "colab_type": "text"
      },
      "cell_type": "markdown",
      "source": [
        "5.- Probar método de recomendación basado en ***ItemAvg***"
      ]
    },
    {
      "metadata": {
        "id": "DbSxcwx-WVVQ",
        "colab_type": "code",
        "colab": {}
      },
      "cell_type": "code",
      "source": [
        "# declarar el objeto recomendador ItemAvg\n",
        "myitemavg = pyreclab.ItemAvg(dataset = 'u1.base',dlmchar = b'\\t',header = False,usercol = 0,itemcol = 1, ratingcol = 2 )\n"
      ],
      "execution_count": 0,
      "outputs": []
    },
    {
      "metadata": {
        "id": "JxaWtdjgWVhu",
        "colab_type": "code",
        "colab": {}
      },
      "cell_type": "code",
      "source": [
        "# entrenamos el modelo con los datos existentes\n",
        "myitemavg.train()"
      ],
      "execution_count": 0,
      "outputs": []
    },
    {
      "metadata": {
        "id": "tMiP_Z2VYZB9",
        "colab_type": "text"
      },
      "cell_type": "markdown",
      "source": [
        "¿Qué cree usted que hace la función train() del método de recomendación ItemAvg() ?"
      ]
    },
    {
      "metadata": {
        "id": "HoRM5ILcYS8l",
        "colab_type": "text"
      },
      "cell_type": "markdown",
      "source": [
        "Respuesta:"
      ]
    },
    {
      "metadata": {
        "id": "QIN7IAHyWVtL",
        "colab_type": "code",
        "colab": {}
      },
      "cell_type": "code",
      "source": [
        "# Predecir rating que el usuario ID 457 le dará al ítem ID 37\n",
        "myitemavg.predict(\"457\",\"37\")"
      ],
      "execution_count": 0,
      "outputs": []
    },
    {
      "metadata": {
        "id": "FAmYXWtWXg3D",
        "colab_type": "text"
      },
      "cell_type": "markdown",
      "source": [
        "Ejecute el mismo comando anterior para predecir esta vez el rating que el usuario 498 dará al item 37 ¿Qué rating da? ¿Cómo se explica este resultado?"
      ]
    },
    {
      "metadata": {
        "id": "LZuWe5vlQNdR",
        "colab_type": "code",
        "colab": {}
      },
      "cell_type": "code",
      "source": [
        ""
      ],
      "execution_count": 0,
      "outputs": []
    },
    {
      "metadata": {
        "id": "wJvLQ2HoYrCX",
        "colab_type": "text"
      },
      "cell_type": "markdown",
      "source": [
        "Respuesta:"
      ]
    },
    {
      "metadata": {
        "id": "Fr40bOYsXtnP",
        "colab_type": "code",
        "colab": {}
      },
      "cell_type": "code",
      "source": [
        "# Generar lista de 5 recomendaciones para el usuario con ID 457\n",
        "\n",
        "reclist_iavg = myitemavg.recommend(\"457\",5)\n",
        "print(reclist_iavg)"
      ],
      "execution_count": 0,
      "outputs": []
    },
    {
      "metadata": {
        "id": "_ZdUT93BMYgq",
        "colab_type": "text"
      },
      "cell_type": "markdown",
      "source": [
        "Genere una lista de 11 recomendaciones para el usario ID 478 ¿Cómo se explican las recomendaciones del método para este usuario comparadas con las del usuario 457?"
      ]
    },
    {
      "metadata": {
        "id": "6_9NNOGoaAzi",
        "colab_type": "code",
        "colab": {}
      },
      "cell_type": "code",
      "source": [
        "# genera aqui las recomendacion para el usuario 478\n",
        "\n"
      ],
      "execution_count": 0,
      "outputs": []
    },
    {
      "metadata": {
        "id": "4ndrsHNOYujg",
        "colab_type": "text"
      },
      "cell_type": "markdown",
      "source": [
        "Respuesta: "
      ]
    },
    {
      "metadata": {
        "id": "4WV4L4lmOW5-",
        "colab_type": "text"
      },
      "cell_type": "markdown",
      "source": [
        "¿Cuáles son los títulos de las películas recomendadas por el método **ItemAvg ** para el usuario 457 ? ¿Qué le parecen estas recomendaciones comparadas con el método **MostPopular**?"
      ]
    },
    {
      "metadata": {
        "id": "S9TLKRK-O8FH",
        "colab_type": "code",
        "colab": {}
      },
      "cell_type": "code",
      "source": [
        "# (pista) recuerde los comandos usados en el método anterior\n",
        "\n",
        "# pelis = np.array(reclist).astype(int)\n",
        "# info_file.loc[pelis]['title']"
      ],
      "execution_count": 0,
      "outputs": []
    },
    {
      "metadata": {
        "id": "2e0ZeZXzMhU3",
        "colab_type": "text"
      },
      "cell_type": "markdown",
      "source": [
        "6.- Probar método de recomendación basado en ***UserKNN***"
      ]
    },
    {
      "metadata": {
        "id": "ONuL2UkwaqPH",
        "colab_type": "code",
        "colab": {}
      },
      "cell_type": "code",
      "source": [
        "# declarar el objeto recomendador UserKnn\n",
        "myUserKnn = pyreclab.UserKnn(dataset = 'u1.base',dlmchar = b'\\t',header = False,usercol = 0,itemcol = 1, ratingcol = 2 )\n"
      ],
      "execution_count": 0,
      "outputs": []
    },
    {
      "metadata": {
        "id": "uhjC9eRYaqPK",
        "colab_type": "code",
        "colab": {}
      },
      "cell_type": "code",
      "source": [
        "# entrenamos el modelo con los datos existentes\n",
        "# recuerde que en este metodo puede probar el parámetro k de cantidad de vecinos\n",
        "# así como la métrica de similaridad (pearson, cosine)\n",
        "myUserKnn.train(7,'pearson')"
      ],
      "execution_count": 0,
      "outputs": []
    },
    {
      "metadata": {
        "id": "feSl8bmBaqPO",
        "colab_type": "code",
        "colab": {}
      },
      "cell_type": "code",
      "source": [
        "# Predecir rating que el usuario ID 457 le dará al ítem ID 37\n",
        "myUserKnn.predict( ,  )"
      ],
      "execution_count": 0,
      "outputs": []
    },
    {
      "metadata": {
        "id": "I-iqQvAdTTCP",
        "colab_type": "text"
      },
      "cell_type": "markdown",
      "source": [
        "Según el modelo de recomendación UserKnn, qué rating le dará el usuario 457 al item 37 ?\n",
        "\n",
        "Respuesta: "
      ]
    },
    {
      "metadata": {
        "id": "otr7zq1jaqPR",
        "colab_type": "code",
        "colab": {}
      },
      "cell_type": "code",
      "source": [
        "# Generar lista de recomendaciones 6 para el usuario con ID 457\n",
        "\n",
        "reclist_uknn = myUserKnn.recommend(\"457\",5)\n",
        "print(reclist_uknn)\n"
      ],
      "execution_count": 0,
      "outputs": []
    },
    {
      "metadata": {
        "id": "Bi7_nCE7TmOZ",
        "colab_type": "text"
      },
      "cell_type": "markdown",
      "source": [
        "Escriba los nombres de las películas recomendadas por el método knn\n",
        "\n",
        "Respuesta: "
      ]
    },
    {
      "metadata": {
        "id": "xu6ZHcrkfumP",
        "colab_type": "code",
        "colab": {}
      },
      "cell_type": "code",
      "source": [
        "# (pista) recuerde los comandos usados en el método anterior\n",
        "\n",
        "# pelis = np.array(reclist_uknn).astype(int)\n",
        "# info_file.loc[pelis]['title']"
      ],
      "execution_count": 0,
      "outputs": []
    },
    {
      "metadata": {
        "id": "C-te1p0oaUU_",
        "colab_type": "code",
        "colab": {}
      },
      "cell_type": "code",
      "source": [
        "# Evaluar en base a error de prediccion (RMSE)\n",
        "\n",
        "k_values = [5, 10, 30, 50] # definir distintos valores de vecinos (k)\n",
        "mae_values = [] # para almacenar resultados de MAE\n",
        "rmse_values = [] # para almacenar valores de RMSE\n",
        "\n",
        "for k in k_values:\n",
        "  \n",
        "  myUserKnn.train(k,'cosine')\n",
        "  predlist, mae, rmse = myUserKnn.test( input_file = 'u1.test',dlmchar = b'\\t', header = False, usercol = 0, itemcol = 1, ratingcol = 2, output_file = 'predictions.csv' )\n",
        "  rmse_values.append(rmse)   \n",
        "  "
      ],
      "execution_count": 0,
      "outputs": []
    },
    {
      "metadata": {
        "id": "Xk0QGVvsiQUO",
        "colab_type": "code",
        "colab": {
          "base_uri": "https://localhost:8080/",
          "height": 34
        },
        "outputId": "502e0b81-3920-4e46-a8b2-ee40987cd422"
      },
      "cell_type": "code",
      "source": [
        "print(rmse_values)"
      ],
      "execution_count": 0,
      "outputs": [
        {
          "output_type": "stream",
          "text": [
            "[1.0006176712631452, 0.985968197022971, 0.9771025822148011, 0.9727805377805858]\n"
          ],
          "name": "stdout"
        }
      ]
    },
    {
      "metadata": {
        "id": "q9E0YClOjPGb",
        "colab_type": "code",
        "colab": {
          "base_uri": "https://localhost:8080/",
          "height": 265
        },
        "outputId": "35fae262-ee3d-4c29-f632-c922e09a9c1f"
      },
      "cell_type": "code",
      "source": [
        "import matplotlib.pyplot as plt\n",
        "%matplotlib inline\n",
        "\n",
        "plt.plot(k_values, rmse_values, 'r-')\n",
        "plt.plot(k_values, rmse_values, 'bo')\n",
        "plt.show()"
      ],
      "execution_count": 0,
      "outputs": [
        {
          "output_type": "display_data",
          "data": {
            "image/png": "[encoded data removed]",
            "text/plain": [
              "<matplotlib.figure.Figure at 0x7fcc097f7ba8>"
            ]
          },
          "metadata": {
            "tags": []
          }
        }
      ]
    },
    {
      "metadata": {
        "id": "jrjMzM5zioaP",
        "colab_type": "text"
      },
      "cell_type": "markdown",
      "source": [
        "Según los resultados: ¿ qué numero de vecinos es mejor para hacer recomendaciones con un menor error de predicción ?"
      ]
    },
    {
      "metadata": {
        "id": "FqgkF0dNMo9c",
        "colab_type": "text"
      },
      "cell_type": "markdown",
      "source": [
        "7.- Probar método de recomendación basado en ***ItemKNN***"
      ]
    },
    {
      "metadata": {
        "id": "BIoEuAPGM922",
        "colab_type": "text"
      },
      "cell_type": "markdown",
      "source": [
        "Replicar todo el análisis de UserKNN con el método ItemKNN"
      ]
    },
    {
      "metadata": {
        "id": "NAE5IZzXMqiJ",
        "colab_type": "text"
      },
      "cell_type": "markdown",
      "source": [
        "8.- Probar método de recomendación basado en ***SlopeOne***"
      ]
    },
    {
      "metadata": {
        "id": "qKspTai4NCNb",
        "colab_type": "text"
      },
      "cell_type": "markdown",
      "source": [
        "Replicar todo el análisis de UserKNN con el método SlopeOne\n"
      ]
    }
  ]
}